{
 "cells": [
  {
   "cell_type": "code",
   "execution_count": 1,
   "id": "73bf76f8",
   "metadata": {
    "scrolled": true
   },
   "outputs": [],
   "source": [
    "import warnings\n",
    "warnings.filterwarnings('ignore')\n",
    "\n",
    "import os\n",
    "import json"
   ]
  },
  {
   "cell_type": "markdown",
   "id": "44de530a-d431-4d33-b259-4554b5a28fa3",
   "metadata": {},
   "source": [
    "# hSBMs"
   ]
  },
  {
   "cell_type": "code",
   "execution_count": 3,
   "id": "0b52f867-de67-4302-9b08-4573921b0987",
   "metadata": {
    "scrolled": true
   },
   "outputs": [
    {
     "name": "stdout",
     "output_type": "stream",
     "text": [
      "HSPC\n",
      "Peak\n",
      "Submitted batch job 1327946\n"
     ]
    }
   ],
   "source": [
    "n_init=7\n",
    "runs=25\n",
    "\n",
    "for dataset, job in zip([\"PBMC\",\"HSPC\",\"MouseSkin\",\"BMMCMultiOme\",\"BMMCCite\",\"Spleen\"], \n",
    "                        [\"Pb\",\"Hs\",\"Ms\",\"Bm\",\"Bc\",\"Sp\"]):\n",
    "    print(dataset)\n",
    "    if dataset not in [\"BMMCCite\", \"Spleen\"]:        \n",
    "        print(\"Peak\")\n",
    "        cm=f\"Datasets/{dataset}/CM/{dataset}_Peak_Def.h5ad\"\n",
    "        path_to_save=f\"Datasets/{dataset}/SBM/hSBM_Peak\"\n",
    "        name=f\"{dataset}_hSBM_Peak\"\n",
    "        os.system(f\"sbatch -p slim18 -J hS{job}Peak --time 7-00:00:00 --mem=32G \\\n",
    "        --output=Datasets/{dataset}/{name}_25_runs.out \\\n",
    "        Run_hSBM.sh {cm} {n_init} {path_to_save} {name} {runs} None\")\n",
    "    \n",
    "    else:\n",
    "        print(\"ADT\")\n",
    "        cm=f\"Datasets/{dataset}/CM/{dataset}_ADT_Def.h5ad\"\n",
    "        path_to_save=f\"Datasets/{dataset}/SBM/hSBM_ADT\"\n",
    "        name=f\"{dataset}_hSBM_ADT\"\n",
    "        os.system(f\"sbatch -p slim18 -J hS{job}ADT --time 7-00:00:00 --mem=32G \\\n",
    "        --output=Datasets/{dataset}/{name}_25_runs.out \\\n",
    "        Run_hSBM.sh {cm} {n_init} {path_to_save} {name} {runs} None\")"
   ]
  },
  {
   "cell_type": "code",
   "execution_count": null,
   "id": "7dd5b925-28be-4260-bef2-38fba5d8a02d",
   "metadata": {
    "scrolled": true
   },
   "outputs": [],
   "source": []
  },
  {
   "cell_type": "markdown",
   "id": "644f61ef-fce8-4939-813a-fa0e84ab91e6",
   "metadata": {},
   "source": [
    "# nSBM"
   ]
  },
  {
   "cell_type": "code",
   "execution_count": null,
   "id": "84b4d761-0d90-4e86-b6b6-e96e32068c6d",
   "metadata": {
    "scrolled": true
   },
   "outputs": [],
   "source": [
    "for dataset, job in zip([\"PBMC\",\"HSPC\",\"MouseSkin\",\"BMMCMultiOme\"], \n",
    "                        [\"Pb\",\"Hs\",\"Ms\",\"Bm\"]):\n",
    "\n",
    "    for exp in [\"Peak_GEX\",\"Peak_mRNA\",\"Peak_lncRNA\",\"Peak_mRNA_lncRNA\",\"mRNA_lncRNA\"]:\n",
    "        cm=f\"Datasets/{dataset}/CM/{dataset}_{exp}.h5mu\"\n",
    "        path_to_save=f\"Datasets/{dataset}/SBM/nSBM_{exp}/{dataset}_nSBM_{exp}\"\n",
    "        os.system(f\"sbatch -p slim18 --time 7-00:00:00 --mem=32G --ntasks=1 --cpus-per-task=8 \\\n",
    "        --output=Datasets/{dataset}/{name}.out Run_nSBM.sh {cm} {path_to_save}\")\n",
    "\n",
    "for dataset, job in zip([\"BMMCCite\",\"Spleen\"], \n",
    "                        [\"Bc\",\"Sp\"]):\n",
    "    for exp in [\"ADT_GEX\",\"ADT_mRNA\",\"ADT_lncRNA\",\"ADT_mRNA_lncRNA\",\"mRNA_lncRNA\"]:\n",
    "        cm=f\"Datasets/{dataset}/CM/{dataset}_{exp}.h5mu\"\n",
    "        path_to_save=f\"Datasets/{dataset}/SBM/nSBM_{exp}/{dataset}_nSBM_{exp}\"\n",
    "        os.system(f\"sbatch -p slim18 --time 7-00:00:00 --mem=32G --ntasks=1 --cpus-per-task=8 \\\n",
    "        --output=Datasets/{dataset}/{dataset}_{exp}_nSBM.out Run_nSBM.sh {cm} {path_to_save}\")"
   ]
  },
  {
   "cell_type": "markdown",
   "id": "ad1229e7-32cd-4ea0-9cff-1c3e06eb8df9",
   "metadata": {},
   "source": [
    "# ShareTopic"
   ]
  },
  {
   "cell_type": "code",
   "execution_count": 3,
   "id": "a2badb35-bc79-4817-b78d-5652dfebfe7a",
   "metadata": {},
   "outputs": [
    {
     "name": "stdout",
     "output_type": "stream",
     "text": [
      "HumanBrain\n",
      "Peak + GEX\n",
      "Submitted batch job 1303635\n",
      "Peak + mRNA\n",
      "Submitted batch job 1303636\n",
      "Peak + lncRNA\n",
      "Submitted batch job 1303637\n"
     ]
    }
   ],
   "source": [
    "for dataset, job in zip([\"PBMC\",\"HSPC\",\"MouseSkin\",\"BMMCMultiOme\"], \n",
    "                        [\"Pb\",\"Hs\",\"Ms\",\"Bm\"]):\n",
    "\n",
    "    for exp in [\"Peak_GEX\",\"Peak_mRNA\",\"Peak_lncRNA\",\"Peak_mRNA_lncRNA\",\"mRNA_lncRNA\"]:\n",
    "        cm=f\"Datasets/{dataset}/CM/{dataset}_{exp}.h5mu\"\n",
    "        path_to_save=f\"Datasets/{dataset}/ShareTopic/ShareTopic_{exp}/{dataset}_ShareTopic_{exp}\"\n",
    "        os.system(f\"sbatch -p slim18 --time 7-00:00:00 --mem=32G --ntasks=1 --cpus-per-task=8 \\\n",
    "        --output=Datasets/{dataset}/{dataset}_{exp}_ShareTopic.out Run_ShareTopic.sh {cm} {path_to_save}\")"
   ]
  },
  {
   "cell_type": "markdown",
   "id": "f692144b-53da-45c9-b8a7-2d82c85f91b6",
   "metadata": {},
   "source": [
    "# Mowgli"
   ]
  },
  {
   "cell_type": "code",
   "execution_count": null,
   "id": "998fc5e6-532e-4cdb-98cc-82c4cc63db19",
   "metadata": {},
   "outputs": [],
   "source": [
    "for dataset, job in zip([\"PBMC\",\"HSPC\",\"MouseSkin\",\"BMMCMultiOme\"], \n",
    "                        [\"Pb\",\"Hs\",\"Ms\",\"Bm\"]):\n",
    "\n",
    "    for exp in [\"Peak_GEX\",\"Peak_mRNA\",\"Peak_lncRNA\",\"Peak_mRNA_lncRNA\",\"mRNA_lncRNA\"]:\n",
    "        cm=f\"Datasets/{dataset}/CM/{dataset}_{exp}.h5mu\"\n",
    "        path_to_save=f\"Datasets/{dataset}/Mowgli/Mowgli_{exp}/{dataset}_Mowgli_{exp}\"\n",
    "        os.system(f\"sbatch -p slim18 --time 7-00:00:00 --mem=32G --ntasks=1 --cpus-per-task=8 \\\n",
    "        --output=Datasets/{dataset}/{dataset}_{exp}_Mowgli.out Run_Mowgli.sh {cm} {path_to_save}\")\n",
    "\n",
    "for dataset, job in zip([\"BMMCCite\",\"Spleen\"], \n",
    "                        [\"Bc\",\"Sp\"]):\n",
    "    for exp in [\"ADT_GEX\",\"ADT_mRNA\",\"ADT_lncRNA\",\"ADT_mRNA_lncRNA\",\"mRNA_lncRNA\"]:\n",
    "        cm=f\"Datasets/{dataset}/CM/{dataset}_{exp}.h5mu\"\n",
    "        path_to_save=f\"Datasets/{dataset}/Mowgli/Mowgli_{exp}/{dataset}_Mowgli_{exp}\"\n",
    "        os.system(f\"sbatch -p slim18 --time 7-00:00:00 --mem=32G --ntasks=1 --cpus-per-task=8 \\\n",
    "        --output=Datasets/{dataset}/{dataset}_{exp}_Mowgli.out Run_nSBM.sh {cm} {path_to_save}\")"
   ]
  },
  {
   "cell_type": "raw",
   "id": "0d3828ca-41a4-4d85-82fc-4bfbdcc1af3a",
   "metadata": {
    "scrolled": true
   },
   "source": []
  },
  {
   "cell_type": "markdown",
   "id": "66d91f56-5d88-4a78-b036-4327212adc09",
   "metadata": {},
   "source": [
    "# Metrics"
   ]
  },
  {
   "cell_type": "code",
   "execution_count": 2,
   "id": "b0ac63c4-50d3-4eca-bf98-2aa948da18b4",
   "metadata": {},
   "outputs": [
    {
     "name": "stdout",
     "output_type": "stream",
     "text": [
      "Submitted batch job 1387938\n",
      "Submitted batch job 1387939\n",
      "Submitted batch job 1387940\n",
      "Submitted batch job 1387941\n",
      "Submitted batch job 1387942\n",
      "Submitted batch job 1387943\n"
     ]
    }
   ],
   "source": [
    "import os\n",
    "for dataset, job in zip([\"PBMC\",\"HSPC\",\"MouseSkin\",\"BMMCMultiOme\",\"BMMCCite\",\"Spleen\"], \n",
    "                        [\"Pb\",\"Hs\",\"Ms\",\"Bm\",\"Bc\",\"Sp\"]):\n",
    "    os.system(f\"sbatch -p slim18 -J {job}Metrics --mem=16G --ntasks=1 --cpus-per-task=4 \\\n",
    "            --output=Datasets/{dataset}/{dataset}_Metrics.out Run_Exp.sh ApplyMetrics {dataset}\")"
   ]
  },
  {
   "cell_type": "code",
   "execution_count": 5,
   "id": "76478d22-b929-4898-bb90-b3665faf5740",
   "metadata": {},
   "outputs": [
    {
     "name": "stdout",
     "output_type": "stream",
     "text": [
      "PBMC\n",
      "Submitted batch job 1327954\n",
      "MouseSkin\n",
      "Submitted batch job 1327955\n",
      "BMMCMultiOme\n",
      "Submitted batch job 1327956\n",
      "HSPC\n",
      "Submitted batch job 1327957\n",
      "BMMCCite\n",
      "Submitted batch job 1327958\n",
      "Spleen\n",
      "Submitted batch job 1327959\n"
     ]
    }
   ],
   "source": [
    "for dataset, job in zip([\"PBMC\",\"HSPC\",\"MouseSkin\",\"BMMCMultiOme\",\"BMMCCite\",\"Spleen\"], \n",
    "                        [\"Pb\",\"Hs\",\"Ms\",\"Bm\",\"Bc\",\"Sp\"]):\n",
    "    print(dataset)\n",
    "    os.system(f\"sbatch -p slim18 -J {job}TopData --mem=20G --ntasks=1 --cpus-per-task=6 \\\n",
    "            --output=Datasets/{dataset}/{dataset}_TopicsData.out Run_Exp.sh TopicsData {dataset}\")"
   ]
  },
  {
   "cell_type": "code",
   "execution_count": null,
   "id": "8fa43a08-df1f-4f5e-b394-e41367252ffe",
   "metadata": {},
   "outputs": [],
   "source": []
  },
  {
   "cell_type": "code",
   "execution_count": null,
   "id": "e089d941-69ba-418d-bfb4-7233ac4a3d56",
   "metadata": {},
   "outputs": [],
   "source": []
  }
 ],
 "metadata": {
  "kernelspec": {
   "display_name": "Python 3 (ipykernel)",
   "language": "python",
   "name": "python3"
  },
  "language_info": {
   "codemirror_mode": {
    "name": "ipython",
    "version": 3
   },
   "file_extension": ".py",
   "mimetype": "text/x-python",
   "name": "python",
   "nbconvert_exporter": "python",
   "pygments_lexer": "ipython3",
   "version": "3.11.8"
  },
  "toc": {
   "base_numbering": 1,
   "nav_menu": {},
   "number_sections": true,
   "sideBar": true,
   "skip_h1_title": false,
   "title_cell": "Table of Contents",
   "title_sidebar": "Contents",
   "toc_cell": false,
   "toc_position": {
    "height": "calc(100% - 180px)",
    "left": "10px",
    "top": "150px",
    "width": "323.516px"
   },
   "toc_section_display": true,
   "toc_window_display": true
  },
  "varInspector": {
   "cols": {
    "lenName": 16,
    "lenType": 16,
    "lenVar": 40
   },
   "kernels_config": {
    "python": {
     "delete_cmd_postfix": "",
     "delete_cmd_prefix": "del ",
     "library": "var_list.py",
     "varRefreshCmd": "print(var_dic_list())"
    },
    "r": {
     "delete_cmd_postfix": ") ",
     "delete_cmd_prefix": "rm(",
     "library": "var_list.r",
     "varRefreshCmd": "cat(var_dic_list()) "
    }
   },
   "types_to_exclude": [
    "module",
    "function",
    "builtin_function_or_method",
    "instance",
    "_Feature"
   ],
   "window_display": false
  }
 },
 "nbformat": 4,
 "nbformat_minor": 5
}
