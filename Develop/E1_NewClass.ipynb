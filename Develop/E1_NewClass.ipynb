{
 "cells": [
  {
   "cell_type": "markdown",
   "id": "626411d5-d124-43d3-9719-2669dafb4eee",
   "metadata": {},
   "source": [
    "# Test"
   ]
  },
  {
   "cell_type": "code",
   "execution_count": 1,
   "id": "f8037602-06c0-4b29-bd5b-1fec243ebc7a",
   "metadata": {},
   "outputs": [],
   "source": [
    "import bionsbm\n",
    "from muon import read_h5mu"
   ]
  },
  {
   "cell_type": "code",
   "execution_count": null,
   "id": "f876e863-f7bf-4d37-bcad-6adcad0e2f1b",
   "metadata": {
    "scrolled": true
   },
   "outputs": [],
   "source": []
  },
  {
   "cell_type": "code",
   "execution_count": 2,
   "id": "8f70ae82-7a1a-4b66-9f26-802ef454a1b8",
   "metadata": {
    "scrolled": true
   },
   "outputs": [],
   "source": [
    "mdata = read_h5mu(\"../Test_data.h5mu\")"
   ]
  },
  {
   "cell_type": "code",
   "execution_count": 3,
   "id": "4d3b910d-b02d-4c97-b04e-183f320704ef",
   "metadata": {
    "scrolled": true
   },
   "outputs": [
    {
     "name": "stderr",
     "output_type": "stream",
     "text": [
      "2025-09-18 13:46:34,502 - INFO - Creating graph from multiple DataFrames\n",
      "2025-09-18 13:46:34,507 - INFO - Building graph with 1000 docs and 1000 words\n",
      "2025-09-18 13:46:34,658 - INFO - Saving graph to results/peak/mybionsbm_graph.xml.gz\n"
     ]
    },
    {
     "data": {
      "text/plain": [
       "<bionsbm.model.bionsbm at 0x78c818121be0>"
      ]
     },
     "execution_count": 3,
     "metadata": {},
     "output_type": "execute_result"
    }
   ],
   "source": [
    "model = bionsbm.model.bionsbm(obj=mdata[\"Peak\"], saving_path=\"results/peak/mybionsbm\")\n",
    "model"
   ]
  },
  {
   "cell_type": "code",
   "execution_count": 4,
   "id": "c889d318-1e00-4e43-bea8-0adf05071c57",
   "metadata": {
    "scrolled": true
   },
   "outputs": [
    {
     "name": "stderr",
     "output_type": "stream",
     "text": [
      "2025-09-18 13:46:35,284 - INFO - Fit number: 0\n",
      "2025-09-18 13:46:45,849 - INFO - Saving data in results/peak/mybionsbm\n",
      "2025-09-18 13:46:45,850 - INFO - Saving self data to results/peak/mybionsbm\n",
      "2025-09-18 13:46:45,850 - INFO - Saving graph to results/peak/mybionsbm_graph.xml.gz\n",
      "2025-09-18 13:46:45,889 - INFO - Dumping self to results/peak/mybionsbm_self.pkl\n",
      "2025-09-18 13:46:46,653 - ERROR - Errors occurred while saving levels: Level 3: Failed to get group data for level 3: name 'process_edges_numba_stack' is not defined; Level 2: Failed to get group data for level 2: name 'process_edges_numba_stack' is not defined; Level 4: Failed to get group data for level 4: name 'process_edges_numba_stack' is not defined; Level 5: Failed to get group data for level 5: name 'process_edges_numba_stack' is not defined; Level 1: Failed to get group data for level 1: name 'process_edges_numba_stack' is not defined; Level 0: Failed to get group data for level 0: name 'process_edges_numba_stack' is not defined\n"
     ]
    },
    {
     "ename": "RuntimeError",
     "evalue": "Errors occurred while saving levels: Level 3: Failed to get group data for level 3: name 'process_edges_numba_stack' is not defined; Level 2: Failed to get group data for level 2: name 'process_edges_numba_stack' is not defined; Level 4: Failed to get group data for level 4: name 'process_edges_numba_stack' is not defined; Level 5: Failed to get group data for level 5: name 'process_edges_numba_stack' is not defined; Level 1: Failed to get group data for level 1: name 'process_edges_numba_stack' is not defined; Level 0: Failed to get group data for level 0: name 'process_edges_numba_stack' is not defined",
     "output_type": "error",
     "traceback": [
      "\u001b[31m---------------------------------------------------------------------------\u001b[39m",
      "\u001b[31mRuntimeError\u001b[39m                              Traceback (most recent call last)",
      "\u001b[36mCell\u001b[39m\u001b[36m \u001b[39m\u001b[32mIn[4]\u001b[39m\u001b[32m, line 1\u001b[39m\n\u001b[32m----> \u001b[39m\u001b[32m1\u001b[39m \u001b[43mmodel\u001b[49m\u001b[43m.\u001b[49m\u001b[43mfit\u001b[49m\u001b[43m(\u001b[49m\u001b[43mn_init\u001b[49m\u001b[43m=\u001b[49m\u001b[32;43m1\u001b[39;49m\u001b[43m,\u001b[49m\u001b[43m \u001b[49m\u001b[43mverbose\u001b[49m\u001b[43m=\u001b[49m\u001b[38;5;28;43;01mFalse\u001b[39;49;00m\u001b[43m)\u001b[49m\n",
      "\u001b[36mFile \u001b[39m\u001b[32m~/miniconda3/envs/gt/lib/python3.13/site-packages/bionsbm/model.py:343\u001b[39m, in \u001b[36mbionsbm.fit\u001b[39m\u001b[34m(self, n_init, verbose, deg_corr, overlap, parallel, B_min, B_max, clabel, *args, **kwargs)\u001b[39m\n\u001b[32m    341\u001b[39m \u001b[38;5;28mself\u001b[39m.groups = {}\n\u001b[32m    342\u001b[39m logger.info(\u001b[33m\"\u001b[39m\u001b[33mSaving data in \u001b[39m\u001b[38;5;132;01m%s\u001b[39;00m\u001b[33m\"\u001b[39m, \u001b[38;5;28mself\u001b[39m.saving_path)\n\u001b[32m--> \u001b[39m\u001b[32m343\u001b[39m \u001b[38;5;28;43mself\u001b[39;49m\u001b[43m.\u001b[49m\u001b[43msave_data\u001b[49m\u001b[43m(\u001b[49m\u001b[43mpath_to_save\u001b[49m\u001b[43m=\u001b[49m\u001b[38;5;28;43mself\u001b[39;49m\u001b[43m.\u001b[49m\u001b[43msaving_path\u001b[49m\u001b[43m)\u001b[49m\n\u001b[32m    345\u001b[39m logger.info(\u001b[33m\"\u001b[39m\u001b[33mAnnotate object\u001b[39m\u001b[33m\"\u001b[39m)\n\u001b[32m    346\u001b[39m \u001b[38;5;28mself\u001b[39m.annotate_obj()\n",
      "\u001b[36mFile \u001b[39m\u001b[32m~/miniconda3/envs/gt/lib/python3.13/site-packages/bionsbm/model.py:674\u001b[39m, in \u001b[36mbionsbm.save_data\u001b[39m\u001b[34m(self, path_to_save)\u001b[39m\n\u001b[32m    672\u001b[39m msg = \u001b[33m\"\u001b[39m\u001b[33m; \u001b[39m\u001b[33m\"\u001b[39m.join([\u001b[33mf\u001b[39m\u001b[33m\"\u001b[39m\u001b[33mLevel \u001b[39m\u001b[38;5;132;01m{\u001b[39;00ml\u001b[38;5;132;01m}\u001b[39;00m\u001b[33m: \u001b[39m\u001b[38;5;132;01m{\u001b[39;00merr\u001b[38;5;132;01m}\u001b[39;00m\u001b[33m\"\u001b[39m \u001b[38;5;28;01mfor\u001b[39;00m l, err \u001b[38;5;129;01min\u001b[39;00m errors])\n\u001b[32m    673\u001b[39m logger.error(\u001b[33m\"\u001b[39m\u001b[33mErrors occurred while saving levels: \u001b[39m\u001b[38;5;132;01m%s\u001b[39;00m\u001b[33m\"\u001b[39m, msg)\n\u001b[32m--> \u001b[39m\u001b[32m674\u001b[39m \u001b[38;5;28;01mraise\u001b[39;00m \u001b[38;5;167;01mRuntimeError\u001b[39;00m(\u001b[33mf\u001b[39m\u001b[33m\"\u001b[39m\u001b[33mErrors occurred while saving levels: \u001b[39m\u001b[38;5;132;01m{\u001b[39;00mmsg\u001b[38;5;132;01m}\u001b[39;00m\u001b[33m\"\u001b[39m)\n",
      "\u001b[31mRuntimeError\u001b[39m: Errors occurred while saving levels: Level 3: Failed to get group data for level 3: name 'process_edges_numba_stack' is not defined; Level 2: Failed to get group data for level 2: name 'process_edges_numba_stack' is not defined; Level 4: Failed to get group data for level 4: name 'process_edges_numba_stack' is not defined; Level 5: Failed to get group data for level 5: name 'process_edges_numba_stack' is not defined; Level 1: Failed to get group data for level 1: name 'process_edges_numba_stack' is not defined; Level 0: Failed to get group data for level 0: name 'process_edges_numba_stack' is not defined"
     ]
    }
   ],
   "source": [
    "model.fit(n_init=1, verbose=False)"
   ]
  },
  {
   "cell_type": "code",
   "execution_count": null,
   "id": "e47ef878-72c9-4a76-83c2-201b9d5bd4e6",
   "metadata": {},
   "outputs": [],
   "source": []
  },
  {
   "cell_type": "code",
   "execution_count": null,
   "id": "5ff410f1-6692-4088-9c18-50bf889a05aa",
   "metadata": {},
   "outputs": [],
   "source": []
  },
  {
   "cell_type": "code",
   "execution_count": null,
   "id": "16363eda-692e-4871-b2fc-d4c7d621a8d8",
   "metadata": {
    "scrolled": true
   },
   "outputs": [],
   "source": []
  },
  {
   "cell_type": "code",
   "execution_count": null,
   "id": "a220f25e-344d-4a56-bcb4-8dd1fa9f4311",
   "metadata": {},
   "outputs": [],
   "source": []
  },
  {
   "cell_type": "code",
   "execution_count": null,
   "id": "7c615bc6-f24c-41dc-ae74-6b9946646701",
   "metadata": {},
   "outputs": [],
   "source": []
  },
  {
   "cell_type": "code",
   "execution_count": null,
   "id": "2740b4ae-1fb4-473f-ab7e-ad047fd76a88",
   "metadata": {},
   "outputs": [],
   "source": []
  },
  {
   "cell_type": "code",
   "execution_count": null,
   "id": "26c33bb5-f6f0-48a7-911c-076596c5a5ce",
   "metadata": {},
   "outputs": [],
   "source": []
  },
  {
   "cell_type": "code",
   "execution_count": null,
   "id": "6489baee-5516-4a7a-b861-16e875b158f3",
   "metadata": {},
   "outputs": [],
   "source": []
  }
 ],
 "metadata": {
  "kernelspec": {
   "display_name": "Python 3 (ipykernel)",
   "language": "python",
   "name": "python3"
  },
  "language_info": {
   "codemirror_mode": {
    "name": "ipython",
    "version": 3
   },
   "file_extension": ".py",
   "mimetype": "text/x-python",
   "name": "python",
   "nbconvert_exporter": "python",
   "pygments_lexer": "ipython3",
   "version": "3.13.7"
  }
 },
 "nbformat": 4,
 "nbformat_minor": 5
}
