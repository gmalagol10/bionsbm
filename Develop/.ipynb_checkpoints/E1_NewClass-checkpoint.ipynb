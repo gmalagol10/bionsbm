{
 "cells": [
  {
   "cell_type": "markdown",
   "id": "626411d5-d124-43d3-9719-2669dafb4eee",
   "metadata": {},
   "source": [
    "# Test"
   ]
  },
  {
   "cell_type": "code",
   "execution_count": 5,
   "id": "f8037602-06c0-4b29-bd5b-1fec243ebc7a",
   "metadata": {},
   "outputs": [],
   "source": [
    "import bionsbm\n",
    "from muon import read_h5mu"
   ]
  },
  {
   "cell_type": "code",
   "execution_count": null,
   "id": "f876e863-f7bf-4d37-bcad-6adcad0e2f1b",
   "metadata": {
    "scrolled": true
   },
   "outputs": [],
   "source": []
  },
  {
   "cell_type": "code",
   "execution_count": 6,
   "id": "8f70ae82-7a1a-4b66-9f26-802ef454a1b8",
   "metadata": {
    "scrolled": true
   },
   "outputs": [],
   "source": [
    "mdata = read_h5mu(\"../Test_data.h5mu\")"
   ]
  },
  {
   "cell_type": "code",
   "execution_count": 10,
   "id": "4d3b910d-b02d-4c97-b04e-183f320704ef",
   "metadata": {
    "scrolled": true
   },
   "outputs": [
    {
     "name": "stderr",
     "output_type": "stream",
     "text": [
      "2025-09-15 18:46:59,634 - INFO - Creating graph from multiple DataFrames\n",
      "2025-09-15 18:46:59,639 - INFO - Building graph with 1000 docs and 1000 words\n",
      "2025-09-15 18:46:59,745 - INFO - Saving graph to results/peak/mybionsbm_graph.xml.gz\n"
     ]
    },
    {
     "data": {
      "text/plain": [
       "<bionsbm.model.bionsbm at 0x7f9bbd193d90>"
      ]
     },
     "execution_count": 10,
     "metadata": {},
     "output_type": "execute_result"
    }
   ],
   "source": [
    "model = bionsbm.model.bionsbm(obj=mdata[\"Peak\"], saving_path=\"results/peak/mybionsbm\")\n",
    "model"
   ]
  },
  {
   "cell_type": "code",
   "execution_count": null,
   "id": "c889d318-1e00-4e43-bea8-0adf05071c57",
   "metadata": {
    "scrolled": true
   },
   "outputs": [
    {
     "name": "stderr",
     "output_type": "stream",
     "text": [
      "2025-09-15 18:47:06,294 - INFO - Fit number: 0\n"
     ]
    }
   ],
   "source": [
    "model.fit(n_init=1, verbose=False)"
   ]
  },
  {
   "cell_type": "code",
   "execution_count": null,
   "id": "e47ef878-72c9-4a76-83c2-201b9d5bd4e6",
   "metadata": {},
   "outputs": [],
   "source": []
  },
  {
   "cell_type": "code",
   "execution_count": null,
   "id": "5ff410f1-6692-4088-9c18-50bf889a05aa",
   "metadata": {},
   "outputs": [],
   "source": []
  },
  {
   "cell_type": "code",
   "execution_count": null,
   "id": "16363eda-692e-4871-b2fc-d4c7d621a8d8",
   "metadata": {
    "scrolled": true
   },
   "outputs": [],
   "source": []
  },
  {
   "cell_type": "code",
   "execution_count": null,
   "id": "a220f25e-344d-4a56-bcb4-8dd1fa9f4311",
   "metadata": {},
   "outputs": [],
   "source": []
  },
  {
   "cell_type": "code",
   "execution_count": null,
   "id": "7c615bc6-f24c-41dc-ae74-6b9946646701",
   "metadata": {},
   "outputs": [],
   "source": []
  },
  {
   "cell_type": "code",
   "execution_count": null,
   "id": "2740b4ae-1fb4-473f-ab7e-ad047fd76a88",
   "metadata": {},
   "outputs": [],
   "source": []
  },
  {
   "cell_type": "code",
   "execution_count": null,
   "id": "26c33bb5-f6f0-48a7-911c-076596c5a5ce",
   "metadata": {},
   "outputs": [],
   "source": []
  },
  {
   "cell_type": "code",
   "execution_count": null,
   "id": "6489baee-5516-4a7a-b861-16e875b158f3",
   "metadata": {},
   "outputs": [],
   "source": []
  }
 ],
 "metadata": {
  "kernelspec": {
   "display_name": "Python 3 (ipykernel)",
   "language": "python",
   "name": "python3"
  },
  "language_info": {
   "codemirror_mode": {
    "name": "ipython",
    "version": 3
   },
   "file_extension": ".py",
   "mimetype": "text/x-python",
   "name": "python",
   "nbconvert_exporter": "python",
   "pygments_lexer": "ipython3",
   "version": "3.13.7"
  }
 },
 "nbformat": 4,
 "nbformat_minor": 5
}
